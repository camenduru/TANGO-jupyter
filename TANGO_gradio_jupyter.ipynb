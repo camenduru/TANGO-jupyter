{
  "cells": [
    {
      "cell_type": "markdown",
      "metadata": {
        "id": "view-in-github"
      },
      "source": [
        "[![Open In Colab](https://colab.research.google.com/assets/colab-badge.svg)](https://colab.research.google.com/github/camenduru/TANGO-jupyter/blob/main/TANGO_gradio_jupyter.ipynb)"
      ]
    },
    {
      "cell_type": "code",
      "execution_count": null,
      "metadata": {
        "id": "VjYy0F2gZIPR"
      },
      "outputs": [],
      "source": [
        "%cd /content\n",
        "!GIT_LFS_SKIP_SMUDGE=1 git clone -b dev https://github.com/camenduru/TANGO-hf /content/TANGO\n",
        "\n",
        "!pip install gradio==4.44.1 soundfile moviepy omegaconf librosa wget decord smplx igraph av opencv-python transformers\n",
        "!pip install git+https://github.com/elliottzheng/batch-face\n",
        "\n",
        "!apt install -y -qq aria2\n",
        "!aria2c --console-log-level=error -c -x 16 -s 16 -k 1M  https://huggingface.co/spaces/H-Liu1997/TANGO/resolve/main/emage/smplx_models/smplx/SMPLX_NEUTRAL_2020.npz -d /content/TANGO/emage/smplx_models/smplx -o SMPLX_NEUTRAL_2020.npz\n",
        "!aria2c --console-log-level=error -c -x 16 -s 16 -k 1M  https://huggingface.co/spaces/H-Liu1997/TANGO/resolve/main/emage/AESKConv_240_100.bin -d /content/TANGO/emage -o AESKConv_240_100.bin\n",
        "!aria2c --console-log-level=error -c -x 16 -s 16 -k 1M  https://huggingface.co/spaces/H-Liu1997/TANGO/resolve/main/emage/mean_vel_smplxflame_30.npy -d /content/TANGO/emage -o mean_vel_smplxflame_30.npy\n",
        "!aria2c --console-log-level=error -c -x 16 -s 16 -k 1M  https://huggingface.co/spaces/H-Liu1997/TANGO/resolve/main/Wav2Lip/checkpoints/mobilenet.pth -d /content/TANGO/Wav2Lip/checkpoints -o mobilenet.pth\n",
        "!aria2c --console-log-level=error -c -x 16 -s 16 -k 1M  https://huggingface.co/spaces/H-Liu1997/TANGO/resolve/main/Wav2Lip/checkpoints/resnet50.pth -d /content/TANGO/Wav2Lip/checkpoints -o resnet50.pth\n",
        "!aria2c --console-log-level=error -c -x 16 -s 16 -k 1M  https://huggingface.co/spaces/H-Liu1997/TANGO/resolve/main/Wav2Lip/checkpoints/wav2lip_gan.pth -d /content/TANGO/Wav2Lip/checkpoints -o wav2lip_gan.pth\n",
        "!aria2c --console-log-level=error -c -x 16 -s 16 -k 1M  https://huggingface.co/spaces/H-Liu1997/TANGO/resolve/main/frame-interpolation-pytorch/film_net_fp16.pt -d /content/TANGO/frame-interpolation-pytorch -o film_net_fp16.pt\n",
        "!aria2c --console-log-level=error -c -x 16 -s 16 -k 1M  https://huggingface.co/spaces/H-Liu1997/TANGO/resolve/main/frame-interpolation-pytorch/film_net_fp32.pt -d /content/TANGO/frame-interpolation-pytorch -o film_net_fp32.pt\n",
        "!aria2c --console-log-level=error -c -x 16 -s 16 -k 1M  https://huggingface.co/spaces/H-Liu1997/TANGO/resolve/main/datasets/cached_ckpts/ckpt.pth -d /content/TANGO/datasets/cached_ckpts -o ckpt.pth\n",
        "!aria2c --console-log-level=error -c -x 16 -s 16 -k 1M  https://huggingface.co/spaces/H-Liu1997/TANGO/resolve/main/datasets/cached_graph/youtube_test/speaker1.pkl -d /content/TANGO/datasets/cached_graph/youtube_test -o speaker1.pkl\n",
        "!aria2c --console-log-level=error -c -x 16 -s 16 -k 1M  https://huggingface.co/spaces/H-Liu1997/TANGO/resolve/main/datasets/cached_graph/youtube_test/speaker7.pkl -d /content/TANGO/datasets/cached_graph/youtube_test -o speaker7.pkl\n",
        "!aria2c --console-log-level=error -c -x 16 -s 16 -k 1M  https://huggingface.co/spaces/H-Liu1997/TANGO/resolve/main/datasets/cached_graph/youtube_test/speaker8.pkl -d /content/TANGO/datasets/cached_graph/youtube_test -o speaker8.pkl\n",
        "!aria2c --console-log-level=error -c -x 16 -s 16 -k 1M  https://huggingface.co/spaces/H-Liu1997/TANGO/resolve/main/datasets/cached_graph/youtube_test/speaker9.pkl -d /content/TANGO/datasets/cached_graph/youtube_test -o speaker9.pkl\n",
        "!aria2c --console-log-level=error -c -x 16 -s 16 -k 1M  https://huggingface.co/spaces/H-Liu1997/TANGO/resolve/main/datasets/data_json/youtube_test/speaker1.json -d /content/TANGO/datasets/data_json/youtube_test -o speaker1.json\n",
        "!aria2c --console-log-level=error -c -x 16 -s 16 -k 1M  https://huggingface.co/spaces/H-Liu1997/TANGO/resolve/main/datasets/data_json/youtube_test/speaker7.json -d /content/TANGO/datasets/data_json/youtube_test -o speaker7.json\n",
        "!aria2c --console-log-level=error -c -x 16 -s 16 -k 1M  https://huggingface.co/spaces/H-Liu1997/TANGO/resolve/main/datasets/data_json/youtube_test/speaker8.json -d /content/TANGO/datasets/data_json/youtube_test -o speaker8.json\n",
        "!aria2c --console-log-level=error -c -x 16 -s 16 -k 1M  https://huggingface.co/spaces/H-Liu1997/TANGO/resolve/main/datasets/data_json/youtube_test/speaker9.json -d /content/TANGO/datasets/data_json/youtube_test -o speaker9.json\n",
        "!aria2c --console-log-level=error -c -x 16 -s 16 -k 1M  https://huggingface.co/spaces/H-Liu1997/TANGO/resolve/main/datasets/cached_audio/example_female_voice_9_seconds.wav -d /content/TANGO/datasets/cached_audio -o example_female_voice_9_seconds.wav\n",
        "!aria2c --console-log-level=error -c -x 16 -s 16 -k 1M  https://huggingface.co/spaces/H-Liu1997/TANGO/resolve/main/datasets/cached_audio/example_male_voice_9_seconds.wav -d /content/TANGO/datasets/cached_audio -o example_male_voice_9_seconds.wav\n",
        "!aria2c --console-log-level=error -c -x 16 -s 16 -k 1M  https://huggingface.co/spaces/H-Liu1997/TANGO/resolve/main/datasets/cached_audio/1wrQ6Msp7wM_00-00-39.69_00-00-45.68.mp4 -d /content/TANGO/datasets/cached_audio -o 1wrQ6Msp7wM_00-00-39.69_00-00-45.68.mp4\n",
        "!aria2c --console-log-level=error -c -x 16 -s 16 -k 1M  https://huggingface.co/spaces/H-Liu1997/TANGO/resolve/main/datasets/cached_audio/speaker8_jjRWaMCWs44_00-00-30.16_00-00-33.32.mp4 -d /content/TANGO/datasets/cached_audio -o speaker8_jjRWaMCWs44_00-00-30.16_00-00-33.32.mp4\n",
        "!aria2c --console-log-level=error -c -x 16 -s 16 -k 1M  https://huggingface.co/spaces/H-Liu1997/TANGO/resolve/main/datasets/cached_audio/speaker7_iuYlGRnC7J8_00-00-0.00_00-00-3.25.mp4 -d /content/TANGO/datasets/cached_audio -o speaker7_iuYlGRnC7J8_00-00-0.00_00-00-3.25.mp4\n",
        "!aria2c --console-log-level=error -c -x 16 -s 16 -k 1M  https://huggingface.co/spaces/H-Liu1997/TANGO/resolve/main/datasets/cached_audio/speaker9_o7Ik1OB4TaE_00-00-38.15_00-00-42.33.mp4 -d /content/TANGO/datasets/cached_audio -o speaker9_o7Ik1OB4TaE_00-00-38.15_00-00-42.33.mp4\n",
        "!aria2c --console-log-level=error -c -x 16 -s 16 -k 1M  https://huggingface.co/spaces/H-Liu1997/TANGO/resolve/main/datasets/cached_audio/101099-00_18_09-00_18_19.mp4 -d /content/TANGO/datasets/cached_audio -o 101099-00_18_09-00_18_19.mp4\n",
        "!aria2c --console-log-level=error -c -x 16 -s 16 -k 1M  https://huggingface.co/spaces/H-Liu1997/TANGO/resolve/main/datasets/cached_audio/demo0.mp4 -d /content/TANGO/datasets/cached_audio -o demo0.mp4\n",
        "!aria2c --console-log-level=error -c -x 16 -s 16 -k 1M  https://huggingface.co/spaces/H-Liu1997/TANGO/resolve/main/datasets/cached_audio/demo1.mp4 -d /content/TANGO/datasets/cached_audio -o demo1.mp4\n",
        "!aria2c --console-log-level=error -c -x 16 -s 16 -k 1M  https://huggingface.co/spaces/H-Liu1997/TANGO/resolve/main/datasets/cached_audio/demo2.mp4 -d /content/TANGO/datasets/cached_audio -o demo2.mp4\n",
        "!aria2c --console-log-level=error -c -x 16 -s 16 -k 1M  https://huggingface.co/spaces/H-Liu1997/TANGO/resolve/main/datasets/cached_audio/demo3.mp4 -d /content/TANGO/datasets/cached_audio -o demo3.mp4\n",
        "!aria2c --console-log-level=error -c -x 16 -s 16 -k 1M  https://huggingface.co/spaces/H-Liu1997/TANGO/resolve/main/datasets/cached_audio/demo4.mp4 -d /content/TANGO/datasets/cached_audio -o demo4.mp4\n",
        "!aria2c --console-log-level=error -c -x 16 -s 16 -k 1M  https://huggingface.co/spaces/H-Liu1997/TANGO/resolve/main/datasets/cached_audio/demo5.mp4 -d /content/TANGO/datasets/cached_audio -o demo5.mp4\n",
        "!aria2c --console-log-level=error -c -x 16 -s 16 -k 1M  https://huggingface.co/spaces/H-Liu1997/TANGO/resolve/main/datasets/cached_audio/demo6.mp4 -d /content/TANGO/datasets/cached_audio -o demo6.mp4\n",
        "!aria2c --console-log-level=error -c -x 16 -s 16 -k 1M  https://huggingface.co/spaces/H-Liu1997/TANGO/resolve/main/datasets/cached_audio/demo7.mp4 -d /content/TANGO/datasets/cached_audio -o demo7.mp4\n",
        "!aria2c --console-log-level=error -c -x 16 -s 16 -k 1M  https://huggingface.co/spaces/H-Liu1997/TANGO/resolve/main/datasets/cached_audio/demo8.mp4 -d /content/TANGO/datasets/cached_audio -o demo8.mp4\n",
        "!aria2c --console-log-level=error -c -x 16 -s 16 -k 1M  https://huggingface.co/spaces/H-Liu1997/TANGO/resolve/main/datasets/cached_audio/demo9.mp4 -d /content/TANGO/datasets/cached_audio -o demo9.mp4\n",
        "\n",
        "https://huggingface.co/spaces/H-Liu1997/TANGO/resolve/main/datasets/cached_audio/demo0.mp4\n",
        "\n",
        "%cd /content/TANGO\n",
        "!python app.py"
      ]
    }
  ],
  "metadata": {
    "accelerator": "GPU",
    "colab": {
      "gpuType": "T4",
      "provenance": []
    },
    "kernelspec": {
      "display_name": "Python 3",
      "name": "python3"
    },
    "language_info": {
      "name": "python"
    }
  },
  "nbformat": 4,
  "nbformat_minor": 0
}

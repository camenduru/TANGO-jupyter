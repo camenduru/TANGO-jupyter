{
  "cells": [
    {
      "cell_type": "markdown",
      "metadata": {
        "id": "view-in-github"
      },
      "source": [
        "[![Open In Colab](https://colab.research.google.com/assets/colab-badge.svg)](https://colab.research.google.com/github/camenduru/MASt3R-jupyter/blob/main/MASt3R_gradio_jupyter.ipynb)"
      ]
    },
    {
      "cell_type": "code",
      "execution_count": null,
      "metadata": {
        "id": "VjYy0F2gZIPR"
      },
      "outputs": [],
      "source": [
        "%cd /content\n",
        "!GIT_LFS_SKIP_SMUDGE=1 git clone -b dev https://github.com/camenduru/TANGO-hf /content/TANGO\n",
        "\n",
        "!pip install gradio==4.44.1 soundfile moviepy omegaconf librosa wget decord smplx igraph av opencv-python transformers\n",
        "!pip install git+https://github.com/elliottzheng/batch-face\n",
        "\n",
        "!wget https://huggingface.co/spaces/H-Liu1997/TANGO/resolve/main/emage/smplx_models/smplx/SMPLX_NEUTRAL_2020.npz -O /content/TANGO/emage/smplx_models/smplx/SMPLX_NEUTRAL_2020.npz\n",
        "!wget https://huggingface.co/spaces/H-Liu1997/TANGO/resolve/main/emage/AESKConv_240_100.bin -O /content/TANGO/emage/AESKConv_240_100.bin\n",
        "!wget https://huggingface.co/spaces/H-Liu1997/TANGO/resolve/main/emage/mean_vel_smplxflame_30.npy -O /content/TANGO/emage/mean_vel_smplxflame_30.npy\n",
        "!wget https://huggingface.co/spaces/H-Liu1997/TANGO/resolve/main/Wav2Lip/checkpoints/mobilenet.pth -O /content/TANGO/Wav2Lip/checkpoints/mobilenet.pth\n",
        "!wget https://huggingface.co/spaces/H-Liu1997/TANGO/resolve/main/Wav2Lip/checkpoints/resnet50.pth -O /content/TANGO/Wav2Lip/checkpoints/resnet50.pth\n",
        "!wget https://huggingface.co/spaces/H-Liu1997/TANGO/resolve/main/Wav2Lip/checkpoints/wav2lip_gan.pth -O /content/TANGO/Wav2Lip/checkpoints/wav2lip_gan.pth\n",
        "!wget https://huggingface.co/spaces/H-Liu1997/TANGO/resolve/main/frame-interpolation-pytorch/film_net_fp16.pt -O /content/TANGO/frame-interpolation-pytorch/film_net_fp16.pt\n",
        "!wget https://huggingface.co/spaces/H-Liu1997/TANGO/resolve/main/frame-interpolation-pytorch/film_net_fp32.pt -O /content/TANGO/frame-interpolation-pytorch/film_net_fp32.pt\n",
        "!wget https://huggingface.co/spaces/H-Liu1997/TANGO/resolve/main/datasets/cached_ckpts/ckpt.pth -O /content/models\n",
        "\n",
        "!wget https://huggingface.co/spaces/H-Liu1997/TANGO/resolve/main/datasets/cached_graph/youtube_test/speaker1.pkl -O /content/TANGO/datasets/cached_graph/youtube_test/speaker1.pkl\n",
        "!wget https://huggingface.co/spaces/H-Liu1997/TANGO/resolve/main/datasets/data_json/youtube_test/speaker1.json -O /content/TANGO/datasets/data_json/youtube_test/speaker1.json\n",
        "\n",
        "!wget https://huggingface.co/spaces/H-Liu1997/TANGO/resolve/main/datasets/cached_audio/example_female_voice_9_seconds.wav -O /content/TANGO/datasets/cached_audio/example_female_voice_9_seconds.wav\n",
        "!wget https://huggingface.co/spaces/H-Liu1997/TANGO/resolve/main/datasets/cached_audio/example_male_voice_9_seconds.wav -O /content/TANGO/datasets/cached_audio/example_male_voice_9_seconds.wav\n",
        "\n",
        "%cd /content/TANGO\n",
        "!python app.py"
      ]
    }
  ],
  "metadata": {
    "accelerator": "GPU",
    "colab": {
      "gpuType": "T4",
      "provenance": []
    },
    "kernelspec": {
      "display_name": "Python 3",
      "name": "python3"
    },
    "language_info": {
      "name": "python"
    }
  },
  "nbformat": 4,
  "nbformat_minor": 0
}
